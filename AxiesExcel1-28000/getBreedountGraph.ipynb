{
 "cells": [
  {
   "cell_type": "markdown",
   "metadata": {},
   "source": [
    "If csv file does not exist, create it"
   ]
  },
  {
   "cell_type": "code",
   "execution_count": null,
   "metadata": {},
   "outputs": [],
   "source": [
    "from os import path\n",
    "import pandas as pd\n",
    "\n",
    "xlsxFile = \"AxieDetails.xlsx\"\n",
    "csvFile = \"AxieDetails.csv\"\n",
    "if not path.exists(csvFile):\n",
    "    data_xlsx = pd.read_excel(xlsxFile, 'Sheet3', dtype=str, index_col=None)\n",
    "    data_xlsx.to_csv(csvFile, encoding='utf-8', index=False)"
   ]
  },
  {
   "cell_type": "markdown",
   "metadata": {},
   "source": [
    "Get list of Axie prices for every breed count"
   ]
  },
  {
   "cell_type": "code",
   "execution_count": null,
   "metadata": {},
   "outputs": [],
   "source": [
    "myList = [1, 2, 3, 4, 5, 6, 7, 8, 9]\n",
    "myListTwo = [\"a\", \"b\", \"c\", \"d\", \"e\", \"f\"]\n",
    "\n",
    "for someChar in myListTwo:\n",
    "    print(someChar)\n",
    "    for someInt in myList:\n",
    "        print(someInt)\n",
    "        if someInt == 2:\n",
    "            break\n"
   ]
  },
  {
   "cell_type": "code",
   "execution_count": 27,
   "metadata": {},
   "outputs": [
    {
     "name": "stdout",
     "output_type": "stream",
     "text": [
      "This Axie ist not for sale\n",
      "\n",
      "\n",
      "\n",
      "\n",
      "[2331238.7798699997, 1.4867, 332709.18, 359685.60000000003, 16.8725, 1.4867]\n",
      "[2427752.137885274, 901445.8676250001, 1.4867, 42.4915, 1163134.76]\n",
      "[]\n",
      "[1.4867]\n",
      "[]\n",
      "[]\n",
      "[]\n",
      "[]\n"
     ]
    }
   ],
   "source": [
    "import csv\n",
    "\n",
    "breedCountRow = 10\n",
    "priceRow = 4\n",
    "priceLastRow = 23\n",
    "priceQuickRow = 24\n",
    "priceReasonableRow = 25\n",
    "pricePatientRow = 26\n",
    "priceRows = [priceRow, priceLastRow, priceQuickRow, priceReasonableRow, pricePatientRow]\n",
    "listOfNonPrices = [\"This Axie ist not for sale\", \"\"]\n",
    "zeroBreedCount = []\n",
    "oneBreedCount = []\n",
    "twoBreedCount = []\n",
    "threeBreedCount = []\n",
    "fourBreedCount = []\n",
    "fiveBreedCount = []\n",
    "sixBreedCount = []\n",
    "sevenBreedCount = []\n",
    "allBreedCounts = [zeroBreedCount, oneBreedCount, twoBreedCount, threeBreedCount, fourBreedCount, fiveBreedCount, sixBreedCount, sevenBreedCount]\n",
    "with open(csvFile, encoding=\"utf8\") as myFile:\n",
    "    heading = next(myFile)\n",
    "    readerObj = list(csv.reader(myFile))\n",
    "    for i in priceRows:\n",
    "        print(readerObj[0][i])\n",
    "\n",
    "    xxx = 0\n",
    "    for row in readerObj:\n",
    "        for price in priceRows:\n",
    "            if row[price] not in listOfNonPrices:\n",
    "                allBreedCounts[int(row[breedCountRow])].append(float(row[price].replace(\" WETH\" ,\"\")))\n",
    "                break\n",
    "        xxx += 1\n",
    "        if xxx == 20:\n",
    "            break\n",
    "\n",
    "for someList in allBreedCounts:\n",
    "    print(someList)\n",
    "\n",
    "    "
   ]
  }
 ],
 "metadata": {
  "kernelspec": {
   "display_name": "Python 3.10.0 64-bit",
   "language": "python",
   "name": "python3"
  },
  "language_info": {
   "codemirror_mode": {
    "name": "ipython",
    "version": 3
   },
   "file_extension": ".py",
   "mimetype": "text/x-python",
   "name": "python",
   "nbconvert_exporter": "python",
   "pygments_lexer": "ipython3",
   "version": "3.10.0"
  },
  "orig_nbformat": 4,
  "vscode": {
   "interpreter": {
    "hash": "3eab74a2fd7fc163fedf2b539a8c720dd47c813b2947dad3f8a80b1139dc56d0"
   }
  }
 },
 "nbformat": 4,
 "nbformat_minor": 2
}
