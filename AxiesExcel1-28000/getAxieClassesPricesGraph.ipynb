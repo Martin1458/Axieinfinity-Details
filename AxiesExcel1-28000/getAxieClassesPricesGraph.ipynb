{
 "cells": [
  {
   "cell_type": "markdown",
   "metadata": {},
   "source": [
    "Get list of all classes"
   ]
  },
  {
   "cell_type": "code",
   "execution_count": null,
   "metadata": {},
   "outputs": [],
   "source": [
    "import csv\n",
    "\n",
    "csvPath = 'AxieDetailsNew.csv'\n",
    "\n",
    "listOfClasses = []\n",
    "with open(csvPath, encoding=\"utf8\") as myFile:\n",
    "    heading = next(myFile)\n",
    "    readerObj = list(csv.reader(myFile))\n",
    "\n",
    "    xxx = 0\n",
    "    for row in readerObj:\n",
    "        if row[15] not in listOfClasses:\n",
    "            listOfClasses.append(row[15])\n",
    "        xxx += 1\n",
    "        if xxx == 200000:\n",
    "            break\n",
    "    \n",
    "print(listOfClasses)\n"
   ]
  },
  {
   "cell_type": "markdown",
   "metadata": {},
   "source": [
    "Remove badClasses from listOfClasses"
   ]
  },
  {
   "cell_type": "code",
   "execution_count": null,
   "metadata": {},
   "outputs": [],
   "source": [
    "badClasses = ['None', '']\n",
    "\n",
    "print(listOfClasses)\n",
    "listOfGoodClasses = [x for x in listOfClasses if x not in badClasses]\n",
    "print(listOfGoodClasses)"
   ]
  },
  {
   "cell_type": "markdown",
   "metadata": {},
   "source": [
    "Get dict of prices for all classes - creating dict"
   ]
  },
  {
   "cell_type": "code",
   "execution_count": null,
   "metadata": {},
   "outputs": [],
   "source": [
    "allClassesDict = {}\n",
    "\n",
    "for x in range(len(listOfGoodClasses)):\n",
    "    allClassesDict[listOfGoodClasses[x]]=[]\n",
    "\n",
    "print(allClassesDict)"
   ]
  },
  {
   "cell_type": "code",
   "execution_count": null,
   "metadata": {},
   "outputs": [],
   "source": [
    "#TESTING\n",
    "#allClassesDict[listOfGoodClasses[0]].append('one')\n",
    "#allClassesDict[listOfGoodClasses[0]].append('two')\n",
    "#allClassesDict"
   ]
  },
  {
   "cell_type": "markdown",
   "metadata": {},
   "source": [
    "Get dict of prices for all classes - adding prices"
   ]
  },
  {
   "cell_type": "code",
   "execution_count": null,
   "metadata": {},
   "outputs": [],
   "source": [
    "#PriceRow should be PriceColumn, \n",
    "# but fuck it its 2AM\n",
    "breedCountRow = 10\n",
    "priceRow = 4\n",
    "priceLastRow = 23\n",
    "priceQuickRow = 24\n",
    "priceReasonableRow = 25\n",
    "pricePatientRow = 26\n",
    "priceRows = [priceRow, priceLastRow, priceQuickRow, priceReasonableRow, pricePatientRow]\n",
    "listOfNonPrices = [\"This Axie ist not for sale\", \"\"]\n",
    "\n",
    "with open(csvPath, encoding=\"utf8\") as myFile:\n",
    "    heading = next(myFile)\n",
    "    readerObj = list(csv.reader(myFile))\n",
    "\n",
    "\n",
    "    xxx = 0\n",
    "    #gets single row\n",
    "    for row in readerObj:\n",
    "        #tries all price columns\n",
    "        for price in priceRows:\n",
    "            if row[price] not in listOfNonPrices:\n",
    "                if row[15] in listOfGoodClasses:\n",
    "                    allClassesDict[listOfGoodClasses[listOfGoodClasses.index(row[15])]].append(row[price].replace(\" WETH\" ,\"\"))\n",
    "                break\n",
    "        xxx += 1\n",
    "        if xxx == 200000:\n",
    "            break\n",
    "\n",
    "#allClassesDict\n",
    "print('Done!!')"
   ]
  },
  {
   "cell_type": "markdown",
   "metadata": {},
   "source": [
    "Graph it!"
   ]
  },
  {
   "cell_type": "code",
   "execution_count": null,
   "metadata": {},
   "outputs": [],
   "source": [
    "import matplotlib.pyplot as plt\n",
    "import numpy as np\n",
    "\n",
    "listOfNames = list(allClassesDict.keys())\n",
    "listOfMeans = []\n",
    "for item in allClassesDict:\n",
    "    #convert value list from allClassesDict strings to list of floats and get mean\n",
    "    listOfMeans.append(np.mean([float(i) for i in allClassesDict[item]]))\n",
    "\n",
    "print(listOfMeans)\n",
    "print(len(listOfMeans))\n",
    "print(listOfNames)\n",
    "print(len(listOfNames))\n",
    "\n",
    "fig = plt.figure(figsize = (10, 5))\n",
    "plt.bar(listOfNames, listOfMeans, color=['#705b8f', '#b928de', '#e595e4', '#8ddbc1', '#fad4ab', '#fac590', '#fa953c', '#de8440', '#c27244'])\n",
    "\n",
    "plt.xlabel(\"Classes\")\n",
    "plt.ylabel(\"Price in WETH\")\n",
    "plt.title(\"ClassesPricesGraph\")\n",
    "plt.show()"
   ]
  }
 ],
 "metadata": {
  "kernelspec": {
   "display_name": "Python 3.10.0 64-bit",
   "language": "python",
   "name": "python3"
  },
  "language_info": {
   "codemirror_mode": {
    "name": "ipython",
    "version": 3
   },
   "file_extension": ".py",
   "mimetype": "text/x-python",
   "name": "python",
   "nbconvert_exporter": "python",
   "pygments_lexer": "ipython3",
   "version": "3.10.0"
  },
  "orig_nbformat": 4,
  "vscode": {
   "interpreter": {
    "hash": "3eab74a2fd7fc163fedf2b539a8c720dd47c813b2947dad3f8a80b1139dc56d0"
   }
  }
 },
 "nbformat": 4,
 "nbformat_minor": 2
}
