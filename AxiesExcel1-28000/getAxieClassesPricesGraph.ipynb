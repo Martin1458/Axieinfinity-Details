{
 "cells": [
  {
   "cell_type": "markdown",
   "metadata": {},
   "source": [
    "Get list of all classes"
   ]
  },
  {
   "cell_type": "code",
   "execution_count": 18,
   "metadata": {},
   "outputs": [
    {
     "name": "stdout",
     "output_type": "stream",
     "text": [
      "['None', 'Beast', 'Aquatic', 'Bug', 'Plant', 'Bird', 'Reptile', 'Dusk', 'Mech', 'Dawn', '']\n"
     ]
    }
   ],
   "source": [
    "import csv\n",
    "\n",
    "csvPath = 'AxieDetailsNew.csv'\n",
    "\n",
    "listOfClasses = []\n",
    "with open(csvPath, encoding=\"utf8\") as myFile:\n",
    "    heading = next(myFile)\n",
    "    readerObj = list(csv.reader(myFile))\n",
    "\n",
    "    xxx = 0\n",
    "    for row in readerObj:\n",
    "        if row[15] not in listOfClasses:\n",
    "            listOfClasses.append(row[15])\n",
    "        xxx += 1\n",
    "        if xxx == 200000:\n",
    "            break\n",
    "    \n",
    "print(listOfClasses)\n"
   ]
  },
  {
   "cell_type": "markdown",
   "metadata": {},
   "source": [
    "Remove badClasses from listOfClasses"
   ]
  },
  {
   "cell_type": "code",
   "execution_count": 19,
   "metadata": {},
   "outputs": [
    {
     "name": "stdout",
     "output_type": "stream",
     "text": [
      "['None', 'Beast', 'Aquatic', 'Bug', 'Plant', 'Bird', 'Reptile', 'Dusk', 'Mech', 'Dawn', '']\n",
      "['Beast', 'Aquatic', 'Bug', 'Plant', 'Bird', 'Reptile', 'Dusk', 'Mech', 'Dawn']\n"
     ]
    }
   ],
   "source": [
    "badClasses = ['None', '']\n",
    "\n",
    "print(listOfClasses)\n",
    "listOfGoodClasses = [x for x in listOfClasses if x not in badClasses]\n",
    "print(listOfGoodClasses)"
   ]
  },
  {
   "cell_type": "markdown",
   "metadata": {},
   "source": [
    "Get dict of prices for all classes - creating dict"
   ]
  },
  {
   "cell_type": "code",
   "execution_count": 26,
   "metadata": {},
   "outputs": [
    {
     "name": "stdout",
     "output_type": "stream",
     "text": [
      "{'Beast': [], 'Aquatic': [], 'Bug': [], 'Plant': [], 'Bird': [], 'Reptile': [], 'Dusk': [], 'Mech': [], 'Dawn': []}\n"
     ]
    }
   ],
   "source": [
    "allClassesDict = {}\n",
    "\n",
    "for x in range(len(listOfGoodClasses)):\n",
    "    allClassesDict[listOfGoodClasses[x]]=[]\n",
    "\n",
    "print(allClassesDict)"
   ]
  },
  {
   "cell_type": "code",
   "execution_count": null,
   "metadata": {},
   "outputs": [],
   "source": [
    "#TESTING\n",
    "#allClassesDict[listOfGoodClasses[0]].append('one')\n",
    "#allClassesDict[listOfGoodClasses[0]].append('two')\n",
    "#allClassesDict"
   ]
  },
  {
   "cell_type": "markdown",
   "metadata": {},
   "source": [
    "Get dict of prices for all classes - adding prices"
   ]
  },
  {
   "cell_type": "code",
   "execution_count": 28,
   "metadata": {},
   "outputs": [
    {
     "name": "stdout",
     "output_type": "stream",
     "text": [
      "Done!!\n"
     ]
    }
   ],
   "source": [
    "#PriceRow should be PriceColumn, \n",
    "# but fuck it its 2AM\n",
    "breedCountRow = 10\n",
    "priceRow = 4\n",
    "priceLastRow = 23\n",
    "priceQuickRow = 24\n",
    "priceReasonableRow = 25\n",
    "pricePatientRow = 26\n",
    "priceRows = [priceRow, priceLastRow, priceQuickRow, priceReasonableRow, pricePatientRow]\n",
    "listOfNonPrices = [\"This Axie ist not for sale\", \"\"]\n",
    "\n",
    "with open(csvPath, encoding=\"utf8\") as myFile:\n",
    "    heading = next(myFile)\n",
    "    readerObj = list(csv.reader(myFile))\n",
    "\n",
    "\n",
    "    xxx = 0\n",
    "    #gets single row\n",
    "    for row in readerObj:\n",
    "        #tries all price columns\n",
    "        for price in priceRows:\n",
    "            if row[price] not in listOfNonPrices:\n",
    "                if row[15] in listOfGoodClasses:\n",
    "                    allClassesDict[listOfGoodClasses[listOfGoodClasses.index(row[15])]].append(row[price].replace(\" WETH\" ,\"\"))\n",
    "                break\n",
    "        xxx += 1\n",
    "        if xxx == 200000:\n",
    "            break\n",
    "\n",
    "#allClassesDict\n",
    "print('Done!!')"
   ]
  },
  {
   "cell_type": "markdown",
   "metadata": {},
   "source": [
    "Graph it!"
   ]
  },
  {
   "cell_type": "code",
   "execution_count": 42,
   "metadata": {},
   "outputs": [
    {
     "name": "stderr",
     "output_type": "stream",
     "text": [
      "No artists with labels found to put in legend.  Note that artists whose label start with an underscore are ignored when legend() is called with no argument.\n"
     ]
    },
    {
     "name": "stdout",
     "output_type": "stream",
     "text": [
      "[7.427461660266983, 11.927716444450667, 12.306725692764527, 13.775742494863437, 2.693114954093388, 7.408010316957772, 3.0664096333333326, 0.32950199999999996, 35.5539564]\n",
      "dict_keys(['Beast', 'Aquatic', 'Bug', 'Plant', 'Bird', 'Reptile', 'Dusk', 'Mech', 'Dawn'])\n"
     ]
    },
    {
     "data": {
      "image/png": "[encoded data removed]",
      "text/plain": [
       "<Figure size 640x480 with 1 Axes>"
      ]
     },
     "metadata": {},
     "output_type": "display_data"
    }
   ],
   "source": [
    "import matplotlib.pyplot as plt\n",
    "import numpy as np\n",
    "\n",
    "listOfNames = allClassesDict.keys()\n",
    "listOfMeans = []\n",
    "for item in allClassesDict:\n",
    "    #convert value list from allClassesDict strings to list of floats and get mean\n",
    "    listOfMeans.append(np.mean([float(i) for i in allClassesDict[item]]))\n",
    "\n",
    "print(listOfMeans)\n",
    "print(listOfNames)\n",
    "plt.legend()\n",
    "plt.xlabel(\"Number of parts\")\n",
    "plt.ylabel(\"Price in WETH\")\n",
    "plt.title(\"SpecialAxiesPricesGraph\")\n",
    "plt.show()"
   ]
  }
 ],
 "metadata": {
  "kernelspec": {
   "display_name": "Python 3.10.0 64-bit",
   "language": "python",
   "name": "python3"
  },
  "language_info": {
   "codemirror_mode": {
    "name": "ipython",
    "version": 3
   },
   "file_extension": ".py",
   "mimetype": "text/x-python",
   "name": "python",
   "nbconvert_exporter": "python",
   "pygments_lexer": "ipython3",
   "version": "3.10.0"
  },
  "orig_nbformat": 4,
  "vscode": {
   "interpreter": {
    "hash": "3eab74a2fd7fc163fedf2b539a8c720dd47c813b2947dad3f8a80b1139dc56d0"
   }
  }
 },
 "nbformat": 4,
 "nbformat_minor": 2
}
