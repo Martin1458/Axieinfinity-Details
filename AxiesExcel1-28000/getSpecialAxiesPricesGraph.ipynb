{
 "cells": [
  {
   "cell_type": "code",
   "execution_count": 48,
   "metadata": {},
   "outputs": [
    {
     "name": "stdout",
     "output_type": "stream",
     "text": [
      "[18500.0, 149.0, 1057.5]\n",
      "[249000.0, 69500.0, 2500.0]\n",
      "[500000.0, 144500.0, 164000.0]\n",
      "[0.0, 0.0, 137500.0]\n",
      "[0.0, 0.0, 350000.0]\n",
      "[18000, 19000, 48000, 450000, 200000, 800000, 0, 0, 0, 0]\n",
      "[98, 200, 24000, 115000, 96000, 193000, 0, 0, 0, 0]\n",
      "[115, 2000, 1000, 4000, 135000, 193000, 25000, 250000, 200000, 500000]\n",
      "<class 'numpy.ndarray'>\n"
     ]
    },
    {
     "data": {
      "image/png": "[encoded data removed]",
      "text/plain": [
       "<Figure size 640x480 with 1 Axes>"
      ]
     },
     "metadata": {},
     "output_type": "display_data"
    }
   ],
   "source": [
    "import numpy as np\n",
    "import matplotlib.pyplot as plt\n",
    "\n",
    "parts = [\"Mystic\", \"Japanese\", \"Christmas\"]\n",
    "singlePartMin = [18000, 98, 115]\n",
    "singlePartMax = [19000, 200, 2000]\n",
    "singlePart = [(singlePartMin[_] + singlePartMax[_])/2 for _ in range(len(singlePartMin))]\n",
    "print(singlePart)\n",
    "doublePartMin = [48000, 24000, 1000]\n",
    "doublePartMax = [450000, 115000, 4000]\n",
    "doublePart = [(doublePartMin[_] + doublePartMax[_])/2 for _ in range(len(doublePartMin))]\n",
    "print(doublePart)\n",
    "triplePartMin = [200000, 96000, 135000]\n",
    "triplePartMax = [800000, 193000, 193000]\n",
    "triplePart = [(triplePartMin[_] + triplePartMax[_])/2 for _ in range(len(triplePartMin))]\n",
    "print(triplePart)\n",
    "quadruplePartMin = [0, 0, 25000]\n",
    "quadruplePartMax = [0, 0, 250000]\n",
    "quadruplePart = [(quadruplePartMin[_] + quadruplePartMax[_])/2 for _ in range(len(quadruplePartMin))]\n",
    "print(quadruplePart)\n",
    "pentaplePartMin = [0, 0, 200000]\n",
    "pentaplePartMax = [0, 0, 500000]\n",
    "pentaplePart = [(pentaplePartMin[_] + pentaplePartMax[_])/2 for _ in range(len(pentaplePartMin))]\n",
    "print(pentaplePart)\n",
    "partsMinMax = [singlePartMin, singlePartMax, doublePartMin, doublePartMax, triplePartMin, triplePartMax, quadruplePartMin, quadruplePartMax, pentaplePartMin, pentaplePartMax]\n",
    "partsList = [singlePart, doublePart, triplePart, quadruplePart, pentaplePart]\n",
    "partsListNames = ['singlePart', 'doublePart', 'triplePart', 'quadruplePart', 'pentaplePart']\n",
    "mysticList = [_[0] for _ in partsMinMax]\n",
    "japaneseList = [_[1] for _ in partsMinMax]\n",
    "christmasList = [_[2] for _ in partsMinMax]\n",
    "print(mysticList)\n",
    "print(japaneseList)\n",
    "print(christmasList)\n",
    "myWidth = 0.2\n",
    "someList = ['0', '1', '2', '3', '4']\n",
    "x_axis = np.arange(len(someList))\n",
    "x_axis = np.arange(len(parts))\n",
    "print(type(x_axis))\n",
    "ax = plt.subplot(111)\n",
    "\n",
    "if False:\n",
    "    ax.bar(0-(myWidth/2), singlePartMin, width=myWidth, label = 'singlePartMin')\n",
    "    ax.bar(0+(myWidth/2), singlePartMax, width=myWidth, label = 'singlePartMax')\n",
    "    ax.bar(1-(myWidth/2), doublePartMin, width=myWidth, label = 'doublePartMin')\n",
    "    ax.bar(1+(myWidth/2), doublePartMax, width=myWidth, label = 'doublePartMax')\n",
    "    ax.bar(2-(myWidth/2), triplePartMin, width=myWidth, label = 'triplePartMin')\n",
    "    ax.bar(2+(myWidth/2), triplePartMax, width=myWidth, label = 'triplePartMax')\n",
    "    ax.bar(3-(myWidth/2), quadruplePartMin, width=myWidth, label = 'quadruplePartMin')\n",
    "    ax.bar(3+(myWidth/2), quadruplePartMax, width=myWidth, label = 'quadruplePartMax')\n",
    "    ax.bar(4-(myWidth/2), pentaplePartMin, width=myWidth, label = 'pentaplePartMin')\n",
    "    ax.bar(4+(myWidth/2), pentaplePartMax, width=myWidth, label = 'pentaplePartMax')\n",
    "elif False:\n",
    "    ax.bar(0, mysticList, width=myWidth, label = 'mysticList')\n",
    "    ax.bar(1, japaneseList, width=myWidth, label = 'japaneseList')\n",
    "    ax.bar(2, christmasList, width=myWidth, label = 'christmasList')\n",
    "elif False:\n",
    "    #ax.bar(0-(myWidth/2), mysticList[0], width=myWidth, label = 'singlePartMin')\n",
    "    #ax.bar(0+(myWidth/2), mysticList[1], width=myWidth, label = 'singlePartMax')\n",
    "    #ax.bar(1-(myWidth/2), mysticList[2], width=myWidth, label = 'doublePartMin')\n",
    "    #ax.bar(1+(myWidth/2), doublePartMax, width=myWidth, label = 'doublePartMax')\n",
    "    #ax.bar(2-(myWidth/2), triplePartMin, width=myWidth, label = 'triplePartMin')\n",
    "    #ax.bar(2+(myWidth/2), triplePartMax, width=myWidth, label = 'triplePartMax')\n",
    "    #ax.bar(3-(myWidth/2), quadruplePartMin, width=myWidth, label = 'quadruplePartMin')\n",
    "    #ax.bar(3+(myWidth/2), quadruplePartMax, width=myWidth, label = 'quadruplePartMax')\n",
    "    #ax.bar(4-(myWidth/2), pentaplePartMin, width=myWidth, label = 'pentaplePartMin')\n",
    "    #ax.bar(4+(myWidth/2), pentaplePartMax, width=myWidth, label = 'pentaplePartMax')\n",
    "    for i in range(len(mysticList)):\n",
    "        ax.bar((myWidth*i), mysticList[i], width=myWidth, label = 'mysticList')\n",
    "    for i in range(len(japaneseList)):\n",
    "        ax.bar((len(mysticList)*myWidth)+(myWidth*i), japaneseList[i], width=myWidth, label = 'japaneseList')\n",
    "    for i in range(len(christmasList)):\n",
    "        ax.bar((len(mysticList)*myWidth)+(len(christmasList)*myWidth)+(myWidth*i), christmasList[i], width=myWidth, label = 'christmasList')\n",
    "else:\n",
    "    #ax.bar(4+(myWidth/2), pentaplePartMax, width=myWidth, label = 'pentaplePartMax')\n",
    "    for r in range(len(partsList)):\n",
    "        for i in range(len(partsList[r])):\n",
    "            ax.bar(r+i*myWidth, partsList[r][i], width=myWidth, label = partsListNames[r])\n",
    "\n",
    "#ax.xticks(x_axis, parts)\n",
    "\n",
    "#ax.title(\"54545\")\n",
    "\n",
    "#ax.show()"
   ]
  }
 ],
 "metadata": {
  "kernelspec": {
   "display_name": "Python 3.10.0 64-bit",
   "language": "python",
   "name": "python3"
  },
  "language_info": {
   "codemirror_mode": {
    "name": "ipython",
    "version": 3
   },
   "file_extension": ".py",
   "mimetype": "text/x-python",
   "name": "python",
   "nbconvert_exporter": "python",
   "pygments_lexer": "ipython3",
   "version": "3.10.0"
  },
  "orig_nbformat": 4,
  "vscode": {
   "interpreter": {
    "hash": "3eab74a2fd7fc163fedf2b539a8c720dd47c813b2947dad3f8a80b1139dc56d0"
   }
  }
 },
 "nbformat": 4,
 "nbformat_minor": 2
}
