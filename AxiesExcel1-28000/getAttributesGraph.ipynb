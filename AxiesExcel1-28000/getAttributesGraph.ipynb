{
 "cells": [
  {
   "cell_type": "markdown",
   "metadata": {},
   "source": [
    "Create AxieAttributesNPrice.csv"
   ]
  },
  {
   "cell_type": "code",
   "execution_count": 2,
   "metadata": {},
   "outputs": [
    {
     "name": "stdout",
     "output_type": "stream",
     "text": [
      "['Source.Name', 'dateTime', 'name', 'id', 'price', 'level', 'hp', 'skill', 'speed', 'morale', 'breedCount', 'stage', 'title', 'bodyShape', 'birthDate', 'class', 'Eyes', 'Ears', 'Back', 'Mouth', 'Horn', 'Tail', 'rarity', 'priceLast', 'priceQuick', 'priceReasonable', 'pricePatient', 'similarAxies']\n",
      "['price', 'bodyShape', 'Eyes', 'Ears', 'Back', 'Mouth', 'Horn', 'Tail', 'priceLast', 'priceQuick', 'priceReasonable', 'pricePatient']\n"
     ]
    }
   ],
   "source": [
    "import pandas as pd\n",
    "\n",
    "data = pd.read_csv(\"AxieDetails.csv\")\n",
    "print(list(data.columns))\n",
    "data.drop(['Source.Name', 'dateTime', 'name', 'id', 'level', 'hp', 'skill', 'speed', 'morale', 'breedCount', 'stage', 'title', 'birthDate', 'class', 'rarity', 'similarAxies'], inplace=True, axis=1)\n",
    "print(list(data.columns))\n",
    "data.to_csv('AxieAttributesNPrice.csv')\n"
   ]
  },
  {
   "cell_type": "markdown",
   "metadata": {},
   "source": [
    "Get data from AxieAttributesNPrice.csv file"
   ]
  },
  {
   "cell_type": "code",
   "execution_count": 3,
   "metadata": {},
   "outputs": [
    {
     "name": "stdout",
     "output_type": "stream",
     "text": [
      "3937\n"
     ]
    }
   ],
   "source": [
    "import csv\n",
    "\n",
    "allRows = []\n",
    "with open('AxieAttributesNPrice.csv', encoding=\"utf8\") as myFile:\n",
    "    heading = next(myFile)\n",
    "    readerObj = list(csv.reader(myFile))\n",
    "\n",
    "    for row in readerObj:\n",
    "        #print(row)\n",
    "        if (row[1] != 'This Axie ist not for sale') ^ (row[9] != '') ^ (row[10] != '') ^ (row[11] != '') ^ (row[12] != ''):\n",
    "            if (row[8] != ''):\n",
    "                allRows.append(row)\n",
    "\n",
    "print(len(allRows))\n",
    "#print(allRows)"
   ]
  },
  {
   "cell_type": "markdown",
   "metadata": {},
   "source": [
    "Remove WETH marker from prices in allRows"
   ]
  },
  {
   "cell_type": "code",
   "execution_count": 8,
   "metadata": {},
   "outputs": [],
   "source": [
    "allGoodRows = []\n",
    "for row in allRows:\n",
    "    newRow = \";\".join(row)\n",
    "    newRow = newRow.replace(\" WETH\", \"\")\n",
    "    newRow = newRow.replace(\"This Axie ist not for sale\", \"\")\n",
    "    newRow = newRow.split(\";\")\n",
    "    allGoodRows.append(newRow)\n",
    "\n",
    "#print(allGoodRows)"
   ]
  },
  {
   "cell_type": "markdown",
   "metadata": {},
   "source": [
    "remove id in allGoodRows"
   ]
  },
  {
   "cell_type": "markdown",
   "metadata": {},
   "source": [
    "Columns in AxieAttributesNPrice.csv = [id,price,bodyShape,Eyes,Ears,Back,Mouth,Horn,Tail,priceLast,priceQuick,priceReasonable,pricePatient]"
   ]
  },
  {
   "cell_type": "code",
   "execution_count": 9,
   "metadata": {},
   "outputs": [],
   "source": [
    "for row in allGoodRows:\n",
    "    row.pop(0)"
   ]
  },
  {
   "cell_type": "markdown",
   "metadata": {},
   "source": [
    "convert str columns to int in allGoodRows"
   ]
  },
  {
   "cell_type": "markdown",
   "metadata": {},
   "source": [
    "Columns in allGoodRows = [price[0],bodyShape[1],Eyes[2],Ears[3],Back[4],Mouth[5],Horn[6],Tail[7],priceLast[8],priceQuick[9],priceReasonable[10],pricePatient[11]]"
   ]
  },
  {
   "cell_type": "code",
   "execution_count": 10,
   "metadata": {},
   "outputs": [
    {
     "name": "stdout",
     "output_type": "stream",
     "text": [
      "['', 'Normal', 'eyes-zeal', 'ears-pink-cheek', 'back-jaguar : beast-back-06', 'mouth-zigzag : plant-mouth-04', 'horn-unko : reptile-horn-02', 'tail-twin-tail : bug-tail-04', '', '1.4867', '1.749', '2.6235']\n",
      "['901445.8676250001', 'Normal', 'eyes-sleepless', 'ears-nimo', 'back-balloon : bird-back-02', 'mouth-catfish : aquatic-mouth-04', 'horn-eggshell : bird-horn-02', 'tail-koi : aquatic-tail-02', '', '', '', '']\n",
      "['', 'Normal', 'eyes-mavis', 'ears-leafy', 'back-hermit : aquatic-back-02', 'mouth-serious : plant-mouth-02', 'horn-lagging : bug-horn-02', 'tail-carrot : plant-tail-02', '', '1.4867', '1.749', '2.6235']\n",
      "['', 'Normal', 'eyes-clear', 'ears-beetle-spike', 'back-blue-moon : aquatic-back-04', 'mouth-catfish : aquatic-mouth-04', 'horn-clamshell : aquatic-horn-06', 'tail-swallow : bird-tail-02', '', '1.4867', '1.749', '2.6235']\n",
      "['', 'Normal', 'eyes-calico-zeal', 'ears-pointy-nyan', 'back-hero : beast-back-04', 'mouth-goda : beast-mouth-04', 'horn-babylonia : aquatic-horn-02', 'tail-twin-tail : bug-tail-04', '', '42.4915', '49.99', '74.985']\n"
     ]
    }
   ],
   "source": [
    "def printFirstRow(xx, xxx):\n",
    "    for i in range(xx):\n",
    "        print(xxx[i])\n",
    "\n",
    "printFirstRow(5, allGoodRows)"
   ]
  },
  {
   "cell_type": "markdown",
   "metadata": {},
   "source": [
    "export allGoodRows to allGoodRowsCsv.csv file"
   ]
  },
  {
   "cell_type": "code",
   "execution_count": 11,
   "metadata": {},
   "outputs": [],
   "source": [
    "with open('allGoodRowsCsv.csv', 'w+') as myFile:\n",
    "    csvWriter = csv.writer(myFile, delimiter=',')\n",
    "    csvWriter.writerows(allGoodRows)"
   ]
  }
 ],
 "metadata": {
  "kernelspec": {
   "display_name": "Python 3.10.0 64-bit",
   "language": "python",
   "name": "python3"
  },
  "language_info": {
   "codemirror_mode": {
    "name": "ipython",
    "version": 3
   },
   "file_extension": ".py",
   "mimetype": "text/x-python",
   "name": "python",
   "nbconvert_exporter": "python",
   "pygments_lexer": "ipython3",
   "version": "3.10.0"
  },
  "orig_nbformat": 4,
  "vscode": {
   "interpreter": {
    "hash": "3eab74a2fd7fc163fedf2b539a8c720dd47c813b2947dad3f8a80b1139dc56d0"
   }
  }
 },
 "nbformat": 4,
 "nbformat_minor": 2
}
