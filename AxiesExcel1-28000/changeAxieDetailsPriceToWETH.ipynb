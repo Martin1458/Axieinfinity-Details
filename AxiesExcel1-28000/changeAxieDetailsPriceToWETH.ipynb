{
 "cells": [
  {
   "cell_type": "code",
   "execution_count": 8,
   "metadata": {},
   "outputs": [
    {
     "name": "stdout",
     "output_type": "stream",
     "text": [
      "This Axie ist not for sale\n",
      "0        This Axie ist not for sale\n",
      "1        This Axie ist not for sale\n",
      "2        This Axie ist not for sale\n",
      "3        This Axie ist not for sale\n",
      "4                 2427752.137885274\n",
      "                    ...            \n",
      "25708    This Axie ist not for sale\n",
      "25709    This Axie ist not for sale\n",
      "25710    This Axie ist not for sale\n",
      "25711    This Axie ist not for sale\n",
      "25712                           NaN\n",
      "Name: price, Length: 25713, dtype: object\n"
     ]
    }
   ],
   "source": [
    "import pandas as pd\n",
    "import re\n",
    "\n",
    "# reading the csv file\n",
    "df = pd.read_csv(\"AxieDetails.csv\")\n",
    "  \n",
    "# updating the column value/data\n",
    "#df['price'] = (df['price'] / 100000) if re.match(r'^-?\\d+(?:\\.\\d+)$', df['price']) != None else df['price'] = df['price']\n",
    "\n",
    "#df['price'] = [float(df['price']) / 100000][df['price']][re.match(r'\\d+\\.\\d+', df['price']) != None] \n",
    "#df['price'] = str(df['price'])+' WETH'\n",
    "print(df.loc[1, 'price'])\n",
    "print(df['price'])\n",
    "# writing into the file\n",
    "#df.to_csv(\"AxieDetailsNew.csv\", index=False)\n",
    "  "
   ]
  }
 ],
 "metadata": {
  "kernelspec": {
   "display_name": "Python 3.10.0 64-bit",
   "language": "python",
   "name": "python3"
  },
  "language_info": {
   "codemirror_mode": {
    "name": "ipython",
    "version": 3
   },
   "file_extension": ".py",
   "mimetype": "text/x-python",
   "name": "python",
   "nbconvert_exporter": "python",
   "pygments_lexer": "ipython3",
   "version": "3.10.0"
  },
  "orig_nbformat": 4,
  "vscode": {
   "interpreter": {
    "hash": "3eab74a2fd7fc163fedf2b539a8c720dd47c813b2947dad3f8a80b1139dc56d0"
   }
  }
 },
 "nbformat": 4,
 "nbformat_minor": 2
}
