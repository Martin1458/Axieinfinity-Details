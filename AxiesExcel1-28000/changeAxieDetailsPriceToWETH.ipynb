{
 "cells": [
  {
   "cell_type": "code",
   "execution_count": null,
   "metadata": {},
   "outputs": [],
   "source": [
    "import pandas as pd\n",
    "import re\n",
    "\n",
    "# reading the csv file\n",
    "df = pd.read_csv(\"AxieDetails.csv\")\n",
    "  \n",
    "# updating the column value/data\n",
    "#df['price'] = (df['price'] / 100000) if re.match(r'^-?\\d+(?:\\.\\d+)$', df['price']) != None else df['price'] = df['price']\n",
    "\n",
    "df['price'] = [float(df['price']) / 100000][df['price']][re.match(r'\\d+\\.\\d+', df['price']) != None] \n",
    "df['price'] = str(df['price'])+' WETH'\n",
    "# writing into the file\n",
    "df.to_csv(\"AxieDetailsNew.csv\", index=False)\n",
    "  "
   ]
  }
 ],
 "metadata": {
  "kernelspec": {
   "display_name": "Python 3.10.0 64-bit",
   "language": "python",
   "name": "python3"
  },
  "language_info": {
   "name": "python",
   "version": "3.10.0"
  },
  "orig_nbformat": 4,
  "vscode": {
   "interpreter": {
    "hash": "3eab74a2fd7fc163fedf2b539a8c720dd47c813b2947dad3f8a80b1139dc56d0"
   }
  }
 },
 "nbformat": 4,
 "nbformat_minor": 2
}
